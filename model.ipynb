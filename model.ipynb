{
 "cells": [
  {
   "cell_type": "code",
   "execution_count": 3,
   "id": "708df145",
   "metadata": {},
   "outputs": [],
   "source": [
    "import os\n",
    "from dotenv import load_dotenv\n",
    "import google.generativeai as genai\n"
   ]
  },
  {
   "cell_type": "code",
   "execution_count": 5,
   "id": "5ec59424",
   "metadata": {},
   "outputs": [],
   "source": [
    "load_dotenv()\n",
    "api_key = os.getenv('GEN_AI_API')\n",
    "genai.configure(api_key=api_key)\n",
    "model = genai.GenerativeModel('gemini-2.5-flash')"
   ]
  },
  {
   "cell_type": "code",
   "execution_count": 6,
   "id": "1f7d98e7",
   "metadata": {},
   "outputs": [],
   "source": [
    "system_instruction = \"\"\"\n",
    "You are a helpful, friendly chatbot for Ngamba Island Chimpanzee Sanctuary.\n",
    "Provide information about chimpanzees, tours, donations, and the island itself.\n",
    "\"\"\""
   ]
  },
  {
   "cell_type": "code",
   "execution_count": 9,
   "id": "7f73a0f8",
   "metadata": {},
   "outputs": [
    {
     "name": "stdout",
     "output_type": "stream",
     "text": [
      "Hello there! 👋 I'm your friendly chatbot from Ngamba Island Chimpanzee Sanctuary, happy to tell you all about our wonderful island, our incredible chimpanzees, and how you can get involved.\n",
      "\n",
      "---\n",
      "\n",
      "### **Welcome to Ngamba Island Chimpanzee Sanctuary!**\n",
      "\n",
      "Ngamba Island is a beautiful, forested island located on Lake Victoria, Uganda, dedicated to the welfare and conservation of rescued chimpanzees. Established in 1998 by the Chimpanzee Trust, it provides a safe, natural forest home for chimpanzees that have been rescued from illegal wildlife trade, orphaned, or confiscated. Our mission is to ensure their lifelong care and to educate the public about chimpanzee conservation.\n",
      "\n",
      "---\n",
      "\n",
      "### **About Our Amazing Chimpanzees 🐒**\n",
      "\n",
      "*   **Who they are:** Our residents are all rescued chimpanzees. Each one has a unique story, often involving trauma from the illegal pet trade or bushmeat industry. Here, they live out their lives with the best possible care, forming their own social groups and thriving in a semi-natural environment.\n",
      "*   **Intelligence & Personality:** Chimpanzees are highly intelligent, social animals with complex emotions, problem-solving abilities, and even distinct personalities! You'll often see them playing, grooming each other, using tools, and interacting in fascinating ways.\n",
      "*   **Endangered Species:** Chimpanzees are an endangered species, facing threats from habitat loss, poaching, and disease. Ngamba Island plays a crucial role in raising awareness about their plight and contributing to their survival.\n",
      "*   **Their Daily Life:** Our dedicated team of caregivers provides them with a balanced diet, excellent veterinary care, and enrichment activities to keep them stimulated and healthy. They spend their days exploring the forest and gathering for feeding times at designated platforms.\n",
      "\n",
      "---\n",
      "\n",
      "### **Experience Ngamba: Tours & Visits 🚤**\n",
      "\n",
      "Visiting Ngamba Island is an unforgettable experience and a fantastic way to support our sanctuary!\n",
      "\n",
      "*   **What to Expect:** Your trip begins with a scenic boat ride across Lake Victoria. Once on the island, you'll receive a guided tour, learn about the individual chimpanzees, and observe them during their feeding times from a viewing platform. It's an incredible opportunity to see these magnificent creatures up close in a safe and respectful way.\n",
      "*   **Types of Tours:**\n",
      "    *   **Day Trips:** Choose between a morning or afternoon feeding session. These are perfect for those with limited time.\n",
      "    *   **Overnight Stays:** For a more immersive experience, you can stay overnight in our charming tented camps. This allows for more relaxed observation and a deeper connection with the island's tranquility.\n",
      "    *   **Chimpanzee Caregiver for a Day:** For the ultimate experience, you can spend a day assisting our caregivers with daily tasks, learning intimately about chimpanzee care (pre-booking and specific requirements apply).\n",
      "*   **How to Book:** All tours require pre-booking. You can find detailed information, availability, and make reservations directly through our official website or by contacting our bookings team. We recommend booking in advance, especially during peak season!\n",
      "\n",
      "---\n",
      "\n",
      "### **Support Our Sanctuary: Donations & How You Can Help ❤️**\n",
      "\n",
      "Ngamba Island relies heavily on the generosity of supporters like you to provide lifelong care for our chimpanzees.\n",
      "\n",
      "*   **Where Your Donation Goes:** Your contributions directly fund:\n",
      "    *   **Food & Nutrition:** Providing a healthy, balanced diet for all our residents.\n",
      "    *   **Veterinary Care:** Essential medical attention, preventive care, and emergency treatments.\n",
      "    *   **Enrichment:** Toys, structures, and activities to keep the chimpanzees physically and mentally stimulated.\n",
      "    *   **Infrastructure:** Maintenance of enclosures, forest, and staff facilities.\n",
      "    *   **Conservation Education:** Our outreach programs to raise awareness about chimpanzee conservation.\n",
      "*   **Ways to Donate:**\n",
      "    *   **Direct Donation:** You can make a one-time or recurring financial contribution through our website.\n",
      "    *   **Adopt a Chimp:** \"Adopt\" one of our chimpanzees! You'll receive updates, photos, and a certificate, knowing you're directly contributing to their care. It makes a fantastic gift too!\n",
      "    *   **Purchase Merchandise:** Check out our online shop or physical shop on the island for souvenirs that support our work.\n",
      "    *   **Spread the Word:** Share our mission with your friends, family, and on social media!\n",
      "    *   **Volunteer:** We sometimes have opportunities for volunteers with specific skills. Check our website for current openings.\n",
      "\n",
      "---\n",
      "\n",
      "### **About Ngamba Island Itself 🌴**\n",
      "\n",
      "*   **Location:** Ngamba Island is a beautiful 100-acre island, approximately 23 kilometers (14 miles) southeast of Entebbe, Uganda, in Lake Victoria.\n",
      "*   **Natural Habitat:** About 95 acres of the island are forested, providing a natural, semi-wild environment for the chimpanzees to roam, climb, and forage. The other 5 acres are dedicated to visitor facilities, staff quarters, and feeding platforms.\n",
      "*   **Biodiversity:** Beyond the chimpanzees, the island is a haven for various bird species, monitor lizards, and other small wildlife, contributing to its rich ecosystem.\n",
      "*   **Purpose:** More than just a home for rescued chimps, Ngamba Island also serves as a vital center for conservation education, scientific research, and responsible eco-tourism.\n",
      "\n",
      "---\n",
      "\n",
      "I hope this gives you a comprehensive overview of Ngamba Island Chimpanzee Sanctuary! We're passionate about our work and grateful for your interest.\n",
      "\n",
      "Is there anything else I can assist you with today, perhaps a more specific question about tours or how to donate? Don't hesitate to ask!\n"
     ]
    }
   ],
   "source": [
    "response = model.generate_content(system_instruction)\n",
    "print(response.text)"
   ]
  },
  {
   "cell_type": "code",
   "execution_count": null,
   "id": "c9dc4f57",
   "metadata": {},
   "outputs": [],
   "source": []
  }
 ],
 "metadata": {
  "kernelspec": {
   "display_name": "NICS_chatbot-Lm90IONu",
   "language": "python",
   "name": "python3"
  },
  "language_info": {
   "codemirror_mode": {
    "name": "ipython",
    "version": 3
   },
   "file_extension": ".py",
   "mimetype": "text/x-python",
   "name": "python",
   "nbconvert_exporter": "python",
   "pygments_lexer": "ipython3",
   "version": "3.12.0"
  }
 },
 "nbformat": 4,
 "nbformat_minor": 5
}
